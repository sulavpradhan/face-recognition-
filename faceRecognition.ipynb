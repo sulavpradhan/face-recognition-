{
  "nbformat": 4,
  "nbformat_minor": 0,
  "metadata": {
    "colab": {
      "name": "faceRecognition.ipynb",
      "provenance": [],
      "collapsed_sections": [],
      "include_colab_link": true
    },
    "kernelspec": {
      "name": "python3",
      "display_name": "Python 3"
    },
    "accelerator": "GPU"
  },
  "cells": [
    {
      "cell_type": "markdown",
      "metadata": {
        "id": "view-in-github",
        "colab_type": "text"
      },
      "source": [
        "<a href=\"https://colab.research.google.com/github/sulavpradhan/face-recognition-/blob/main/faceRecognition.ipynb\" target=\"_parent\"><img src=\"https://colab.research.google.com/assets/colab-badge.svg\" alt=\"Open In Colab\"/></a>"
      ]
    },
    {
      "cell_type": "code",
      "metadata": {
        "colab": {
          "base_uri": "https://localhost:8080/"
        },
        "id": "PWHJNbR3xgng",
        "outputId": "ca8b41c8-04ae-4bc1-a650-6f48b3641982"
      },
      "source": [
        "!python --version\n"
      ],
      "execution_count": null,
      "outputs": [
        {
          "output_type": "stream",
          "text": [
            "Python 3.7.10\n"
          ],
          "name": "stdout"
        }
      ]
    },
    {
      "cell_type": "code",
      "metadata": {
        "id": "KrfCF3r9KVS8",
        "colab": {
          "base_uri": "https://localhost:8080/"
        },
        "outputId": "5885a5f4-aba2-4018-f883-17f24494b450"
      },
      "source": [
        "!pip3 install mtcnn\n",
        "!pip3 install opencv-contrib-python\n",
        "!pip install --user keras\n",
        "!pip install Keras-Applications\n",
        "!pip install git+https://github.com/rcmalli/keras-vggface.git"
      ],
      "execution_count": null,
      "outputs": [
        {
          "output_type": "stream",
          "text": [
            "Collecting mtcnn\n",
            "\u001b[?25l  Downloading https://files.pythonhosted.org/packages/09/d1/2a4269e387edb97484157b872fa8a1953b53dcafbe4842a1967f549ac5ea/mtcnn-0.1.1-py3-none-any.whl (2.3MB)\n",
            "\u001b[K     |████████████████████████████████| 2.3MB 7.5MB/s \n",
            "\u001b[?25hRequirement already satisfied: keras>=2.0.0 in /usr/local/lib/python3.7/dist-packages (from mtcnn) (2.4.3)\n",
            "Requirement already satisfied: opencv-python>=4.1.0 in /usr/local/lib/python3.7/dist-packages (from mtcnn) (4.1.2.30)\n",
            "Requirement already satisfied: pyyaml in /usr/local/lib/python3.7/dist-packages (from keras>=2.0.0->mtcnn) (3.13)\n",
            "Requirement already satisfied: scipy>=0.14 in /usr/local/lib/python3.7/dist-packages (from keras>=2.0.0->mtcnn) (1.4.1)\n",
            "Requirement already satisfied: numpy>=1.9.1 in /usr/local/lib/python3.7/dist-packages (from keras>=2.0.0->mtcnn) (1.19.5)\n",
            "Requirement already satisfied: h5py in /usr/local/lib/python3.7/dist-packages (from keras>=2.0.0->mtcnn) (3.1.0)\n",
            "Requirement already satisfied: cached-property; python_version < \"3.8\" in /usr/local/lib/python3.7/dist-packages (from h5py->keras>=2.0.0->mtcnn) (1.5.2)\n",
            "Installing collected packages: mtcnn\n",
            "Successfully installed mtcnn-0.1.1\n",
            "Requirement already satisfied: opencv-contrib-python in /usr/local/lib/python3.7/dist-packages (4.1.2.30)\n",
            "Requirement already satisfied: numpy>=1.14.5 in /usr/local/lib/python3.7/dist-packages (from opencv-contrib-python) (1.19.5)\n",
            "Requirement already satisfied: keras in /usr/local/lib/python3.7/dist-packages (2.4.3)\n",
            "Requirement already satisfied: h5py in /usr/local/lib/python3.7/dist-packages (from keras) (3.1.0)\n",
            "Requirement already satisfied: numpy>=1.9.1 in /usr/local/lib/python3.7/dist-packages (from keras) (1.19.5)\n",
            "Requirement already satisfied: scipy>=0.14 in /usr/local/lib/python3.7/dist-packages (from keras) (1.4.1)\n",
            "Requirement already satisfied: pyyaml in /usr/local/lib/python3.7/dist-packages (from keras) (3.13)\n",
            "Requirement already satisfied: cached-property; python_version < \"3.8\" in /usr/local/lib/python3.7/dist-packages (from h5py->keras) (1.5.2)\n",
            "Collecting Keras-Applications\n",
            "\u001b[?25l  Downloading https://files.pythonhosted.org/packages/71/e3/19762fdfc62877ae9102edf6342d71b28fbfd9dea3d2f96a882ce099b03f/Keras_Applications-1.0.8-py3-none-any.whl (50kB)\n",
            "\u001b[K     |████████████████████████████████| 51kB 4.4MB/s \n",
            "\u001b[?25hRequirement already satisfied: numpy>=1.9.1 in /usr/local/lib/python3.7/dist-packages (from Keras-Applications) (1.19.5)\n",
            "Requirement already satisfied: h5py in /usr/local/lib/python3.7/dist-packages (from Keras-Applications) (3.1.0)\n",
            "Requirement already satisfied: cached-property; python_version < \"3.8\" in /usr/local/lib/python3.7/dist-packages (from h5py->Keras-Applications) (1.5.2)\n",
            "Installing collected packages: Keras-Applications\n",
            "Successfully installed Keras-Applications-1.0.8\n",
            "Collecting git+https://github.com/rcmalli/keras-vggface.git\n",
            "  Cloning https://github.com/rcmalli/keras-vggface.git to /tmp/pip-req-build-f_c0yvoi\n",
            "  Running command git clone -q https://github.com/rcmalli/keras-vggface.git /tmp/pip-req-build-f_c0yvoi\n",
            "Requirement already satisfied: numpy>=1.9.1 in /usr/local/lib/python3.7/dist-packages (from keras-vggface==0.6) (1.19.5)\n",
            "Requirement already satisfied: scipy>=0.14 in /usr/local/lib/python3.7/dist-packages (from keras-vggface==0.6) (1.4.1)\n",
            "Requirement already satisfied: h5py in /usr/local/lib/python3.7/dist-packages (from keras-vggface==0.6) (3.1.0)\n",
            "Requirement already satisfied: pillow in /usr/local/lib/python3.7/dist-packages (from keras-vggface==0.6) (7.1.2)\n",
            "Requirement already satisfied: keras in /usr/local/lib/python3.7/dist-packages (from keras-vggface==0.6) (2.4.3)\n",
            "Requirement already satisfied: six>=1.9.0 in /usr/local/lib/python3.7/dist-packages (from keras-vggface==0.6) (1.15.0)\n",
            "Requirement already satisfied: pyyaml in /usr/local/lib/python3.7/dist-packages (from keras-vggface==0.6) (3.13)\n",
            "Requirement already satisfied: cached-property; python_version < \"3.8\" in /usr/local/lib/python3.7/dist-packages (from h5py->keras-vggface==0.6) (1.5.2)\n",
            "Building wheels for collected packages: keras-vggface\n",
            "  Building wheel for keras-vggface (setup.py) ... \u001b[?25l\u001b[?25hdone\n",
            "  Created wheel for keras-vggface: filename=keras_vggface-0.6-cp37-none-any.whl size=8326 sha256=07d39037b7c295dc0cda0a16fbdbcc83f76bc1ee9f47f2fd4fe03923577c0f2b\n",
            "  Stored in directory: /tmp/pip-ephem-wheel-cache-er6wnljp/wheels/36/07/46/06c25ce8e9cd396dabe151ea1d8a2bc28dafcb11321c1f3a6d\n",
            "Successfully built keras-vggface\n",
            "Installing collected packages: keras-vggface\n",
            "Successfully installed keras-vggface-0.6\n"
          ],
          "name": "stdout"
        }
      ]
    },
    {
      "cell_type": "code",
      "metadata": {
        "id": "nE0O2O2CMgKY",
        "colab": {
          "base_uri": "https://localhost:8080/"
        },
        "outputId": "95b1dd9c-1b08-4d45-fd28-3a954a9d3cbd"
      },
      "source": [
        "from google.colab import drive\n",
        "drive.mount('/content/drive/')"
      ],
      "execution_count": null,
      "outputs": [
        {
          "output_type": "stream",
          "text": [
            "Mounted at /content/drive/\n"
          ],
          "name": "stdout"
        }
      ]
    },
    {
      "cell_type": "code",
      "metadata": {
        "id": "XpJZ68KbLsTG",
        "colab": {
          "base_uri": "https://localhost:8080/"
        },
        "outputId": "722b2ae6-b420-4f5c-a7ba-425bce33c09f"
      },
      "source": [
        "import mtcnn\n",
        "print (mtcnn.__version__)"
      ],
      "execution_count": null,
      "outputs": [
        {
          "output_type": "stream",
          "text": [
            "0.1.0\n"
          ],
          "name": "stdout"
        }
      ]
    },
    {
      "cell_type": "code",
      "metadata": {
        "id": "qNy_WeGFZODf"
      },
      "source": [
        "from keras_vggface.vggface import VGGFace"
      ],
      "execution_count": null,
      "outputs": []
    },
    {
      "cell_type": "code",
      "metadata": {
        "id": "BKBm_92Ucymj"
      },
      "source": [
        "from google.colab.patches import cv2_imshow"
      ],
      "execution_count": null,
      "outputs": []
    },
    {
      "cell_type": "code",
      "metadata": {
        "id": "kbLCe9BoOCRj"
      },
      "source": [
        "import matplotlib.pyplot as plt\n",
        "from numpy import expand_dims\n",
        "import numpy as np\n",
        "from matplotlib import pyplot\n",
        "from numpy import asarray\n",
        "from PIL import Image\n",
        "from mtcnn.mtcnn import MTCNN\n",
        "import cv2\n",
        "from keras import applications\n",
        "from keras_vggface.utils import preprocess_input\n",
        "from keras_vggface.utils import decode_predictions\n",
        "import os\n",
        "from keras.models import load_model\n",
        "from scipy.spatial.distance import cosine\n",
        "import glob\n",
        "\n",
        "\n",
        "\n",
        "model = MTCNN()"
      ],
      "execution_count": null,
      "outputs": []
    },
    {
      "cell_type": "code",
      "metadata": {
        "id": "dEfljplkQBYj"
      },
      "source": [
        "def extract_face(filename, required_size=(224, 224)):\n",
        "\t# load image from file\n",
        "\tpixels = pyplot.imread(filename)\n",
        "\t# create the detector, using default weights\n",
        "\tdetector = MTCNN()\n",
        "\t# detect faces in the image\n",
        "\tresults = detector.detect_faces(pixels)\n",
        "\t# extract the bounding box from the first face\n",
        "\tx1, y1, width, height = results[0]['box']\n",
        "\tx2, y2 = x1 + width, y1 + height\n",
        "\t# extract the face\n",
        "\tface = pixels[y1:y2, x1:x2]\n",
        "\t# resize pixels to the model size\n",
        "\timage = Image.fromarray(face)\n",
        "\timage = image.resize(required_size)\n",
        "\tface_array = asarray(image)\n",
        "\treturn face_array\n"
      ],
      "execution_count": null,
      "outputs": []
    },
    {
      "cell_type": "code",
      "metadata": {
        "colab": {
          "base_uri": "https://localhost:8080/"
        },
        "id": "2Bl2z8voZmFj",
        "outputId": "2555d375-c2a2-47ba-e239-a573d315214a"
      },
      "source": [
        "# create a vggface2 model\n",
        "model = VGGFace(model='vgg16')\n",
        "# summarize input and output shape\n",
        "print('Inputs: %s' % model.inputs)\n",
        "print('Outputs: %s' % model.outputs)"
      ],
      "execution_count": null,
      "outputs": [
        {
          "output_type": "stream",
          "text": [
            "Downloading data from https://github.com/rcmalli/keras-vggface/releases/download/v2.0/rcmalli_vggface_tf_vgg16.h5\n",
            "580075520/580070376 [==============================] - 18s 0us/step\n",
            "580083712/580070376 [==============================] - 18s 0us/step\n",
            "Inputs: [<KerasTensor: shape=(None, 224, 224, 3) dtype=float32 (created by layer 'input_1')>]\n",
            "Outputs: [<KerasTensor: shape=(None, 2622) dtype=float32 (created by layer 'fc8/softmax')>]\n"
          ],
          "name": "stdout"
        }
      ]
    },
    {
      "cell_type": "code",
      "metadata": {
        "id": "9vopL12UKiQJ"
      },
      "source": [
        "def get_embeddings(filenames):\n",
        "\t# extract faces\n",
        "\tfaces = [extract_face(f) for f in filenames]\n",
        "\t# convert into an array of samples\n",
        "\tsamples = asarray(faces, 'float32')\n",
        "\t# prepare the face for the model, e.g. center pixels\n",
        "\tsamples = preprocess_input(samples, version=2)\n",
        "\t# create a vggface model\n",
        "\tmodel = VGGFace(model='resnet50', include_top=False, input_shape=(224, 224, 3), pooling='avg')\n",
        "\t# perform prediction\n",
        "\tyhat = model.predict(samples)\n",
        "\treturn yhat"
      ],
      "execution_count": null,
      "outputs": []
    },
    {
      "cell_type": "code",
      "metadata": {
        "id": "oOv63zblFc6s"
      },
      "source": [
        "def is_match(known_embedding, candidate_embedding, thresh=0.5):\n",
        "\t# calculate distance between embeddings\n",
        "\tscore = cosine(known_embedding, candidate_embedding)\n",
        "\tif score <= thresh:\n",
        "\t\treturn 1\n",
        "\telse:\n",
        "\t\treturn 0"
      ],
      "execution_count": null,
      "outputs": []
    },
    {
      "cell_type": "code",
      "metadata": {
        "id": "_xQSYm7VFgbN",
        "colab": {
          "base_uri": "https://localhost:8080/"
        },
        "outputId": "cc62ebb3-74de-48ce-8f76-9b72ae3f1337"
      },
      "source": [
        "filenames = sorted(glob.glob(\"/content/drive/MyDrive/Colab Notebooks/images/*\"))\n",
        "print (filenames)\n",
        "\n"
      ],
      "execution_count": null,
      "outputs": [
        {
          "output_type": "stream",
          "text": [
            "['/content/drive/MyDrive/Colab Notebooks/images/bradd.jpg', '/content/drive/MyDrive/Colab Notebooks/images/googleface.jpg', '/content/drive/MyDrive/Colab Notebooks/images/ruja.jpg', '/content/drive/MyDrive/Colab Notebooks/images/sabudh.jpg']\n"
          ],
          "name": "stdout"
        }
      ]
    },
    {
      "cell_type": "code",
      "metadata": {
        "colab": {
          "base_uri": "https://localhost:8080/"
        },
        "id": "90zHJWfEFhwW",
        "outputId": "82a7c4c8-cf9c-4916-ad82-6aa2c27f66c9"
      },
      "source": [
        "embeddings = get_embeddings(filenames)"
      ],
      "execution_count": null,
      "outputs": [
        {
          "output_type": "stream",
          "text": [
            "WARNING:tensorflow:5 out of the last 11 calls to <function Model.make_predict_function.<locals>.predict_function at 0x7fa64a128710> triggered tf.function retracing. Tracing is expensive and the excessive number of tracings could be due to (1) creating @tf.function repeatedly in a loop, (2) passing tensors with different shapes, (3) passing Python objects instead of tensors. For (1), please define your @tf.function outside of the loop. For (2), @tf.function has experimental_relax_shapes=True option that relaxes argument shapes that can avoid unnecessary retracing. For (3), please refer to https://www.tensorflow.org/guide/function#controlling_retracing and https://www.tensorflow.org/api_docs/python/tf/function for  more details.\n",
            "WARNING:tensorflow:5 out of the last 11 calls to <function Model.make_predict_function.<locals>.predict_function at 0x7fa64a1287a0> triggered tf.function retracing. Tracing is expensive and the excessive number of tracings could be due to (1) creating @tf.function repeatedly in a loop, (2) passing tensors with different shapes, (3) passing Python objects instead of tensors. For (1), please define your @tf.function outside of the loop. For (2), @tf.function has experimental_relax_shapes=True option that relaxes argument shapes that can avoid unnecessary retracing. For (3), please refer to https://www.tensorflow.org/guide/function#controlling_retracing and https://www.tensorflow.org/api_docs/python/tf/function for  more details.\n",
            "Downloading data from https://github.com/rcmalli/keras-vggface/releases/download/v2.0/rcmalli_vggface_tf_notop_resnet50.h5\n",
            "94699520/94694792 [==============================] - 2s 0us/step\n",
            "94707712/94694792 [==============================] - 2s 0us/step\n"
          ],
          "name": "stdout"
        }
      ]
    },
    {
      "cell_type": "code",
      "metadata": {
        "id": "KaUvGSppIfHv",
        "colab": {
          "base_uri": "https://localhost:8080/"
        },
        "outputId": "76c1da01-a2b8-4f9d-918f-18f3d8a6a533"
      },
      "source": [
        "userinput = input(\"enter the name of the image path: \")\n",
        "print (userinput)\n",
        "imageFileName=[userinput]\n",
        "new = get_embeddings(imageFileName)\n",
        "print (new)\n"
      ],
      "execution_count": null,
      "outputs": [
        {
          "output_type": "stream",
          "text": [
            "enter the name of the image path: /content/drive/MyDrive/Colab Notebooks/unseen face/ACE074BCT087.jpg\n",
            "/content/drive/MyDrive/Colab Notebooks/unseen face/ACE074BCT087.jpg\n",
            "[[0.00608063 0.8952685  0.31616887 ... 1.819069   0.         0.0967327 ]]\n"
          ],
          "name": "stdout"
        }
      ]
    },
    {
      "cell_type": "code",
      "metadata": {
        "colab": {
          "base_uri": "https://localhost:8080/"
        },
        "id": "82CHGVVxwq4b",
        "outputId": "ccc9a899-5891-4aae-f6fa-583b0ced45da"
      },
      "source": [
        "embedding = np.array(embeddings)\n",
        "np.save('embedding',embedding)\n",
        "embd=np.load('embedding.npy')\n",
        "embd_keys=['brad', 'google face', 'ruja', 'sabudh' ]\n",
        "res = {embd_keys[i]: embedding[i] for i in range(len(embd_keys))} \n",
        "print (\"Resultant dictionary is : \" +  str(res)) \n",
        "i=0\n",
        "e=0\n",
        "for x in embd:\n",
        "  print (x)\n",
        "  e = is_match(x,new)\n",
        "  if e == 1:\n",
        "    #print ('is a match with ')  \n",
        "    break\n",
        "  i += 1\n",
        "#if e == 0 :\n",
        "  #print ('the person is not recognized')\n",
        "#key = embd.keys(i)\n",
        "if e == 1:\n",
        "  k = 0\n",
        "  for j in res.keys():\n",
        "    if k == i:\n",
        "      key = j \n",
        "    k +=1\n",
        "   \n",
        "\n",
        "  print (key)\n",
        "\n",
        "\n",
        "\n",
        "# load image from file\n",
        "  pixels = pyplot.imread(userinput)\n",
        "# create the detector, using default weights\n",
        "  detector = MTCNN()\n",
        "# detect faces in the image\n",
        "  results = detector.detect_faces(pixels)\n",
        "# extract the bounding box from the first face\n",
        "  x1, y1, width, height = results[0]['box']\n",
        "  x2, y2 = x1 + width, y1 + height\n",
        "  img=cv2.imread(userinput)\n",
        "  gray=cv2.cvtColor(img, cv2.COLOR_BGR2GRAY)\n",
        "  cv2.rectangle(img,(x1,y1),(x2,y2),(0,255,0), 2)\n",
        "  name = key\n",
        "  img=cv2.putText(img,name,(x1,y1-10),cv2.FONT_HERSHEY_SIMPLEX,1,(255,0,255),2,cv2.LINE_AA)\n",
        "  cv2_imshow(img)\n",
        "  cv2.waitKey(0)\n",
        "  cv2.destroyAllWindows()\n",
        "\n",
        "\n",
        "if e == 0 :\n",
        "  print ('the person is not recognized')\n",
        "\n",
        "  \n"
      ],
      "execution_count": null,
      "outputs": [
        {
          "output_type": "stream",
          "text": [
            "Resultant dictionary is : {'brad': array([0.08709431, 0.        , 0.25766683, ..., 0.        , 1.6011869 ,\n",
            "       0.        ], dtype=float32), 'google face': array([0.34000015, 9.297607  , 0.        , ..., 2.6449475 , 1.2109889 ,\n",
            "       0.757356  ], dtype=float32), 'ruja': array([0.        , 0.4449838 , 0.89449984, ..., 0.18244961, 1.3435259 ,\n",
            "       5.2941422 ], dtype=float32), 'sabudh': array([0.        , 0.13957237, 7.0253463 , ..., 1.0670841 , 1.951842  ,\n",
            "       0.        ], dtype=float32)}\n",
            "[0.08709431 0.         0.25766683 ... 0.         1.6011869  0.        ]\n",
            "[0.34000015 9.297607   0.         ... 2.6449475  1.2109889  0.757356  ]\n",
            "[0.         0.4449838  0.89449984 ... 0.18244961 1.3435259  5.2941422 ]\n",
            "[0.         0.13957237 7.0253463  ... 1.0670841  1.951842   0.        ]\n",
            "the person is not recognized\n"
          ],
          "name": "stdout"
        }
      ]
    }
  ]
}